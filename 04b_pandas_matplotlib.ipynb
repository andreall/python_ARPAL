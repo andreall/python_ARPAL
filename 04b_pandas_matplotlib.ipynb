{
 "cells": [
  {
   "cell_type": "markdown",
   "id": "a132f14e-55b7-4894-8a09-5f08be34e4c7",
   "metadata": {},
   "source": [
    "<left><img src=\"https://github.com/pandas-dev/pandas/raw/main/web/pandas/static/img/pandas.svg\" alt=\"pandas Logo\" style=\"width: 200px;\"/></left>\n",
    "<right><img src=\"https://matplotlib.org/stable/_images/sphx_glr_logos2_003.png\" style=\"width: 200px;\"/></right>\n",
    "\n",
    "# Pandas and Matplotlib - EMODNET\n",
    "---"
   ]
  },
  {
   "cell_type": "code",
   "execution_count": null,
   "id": "fb62aa16",
   "metadata": {},
   "outputs": [],
   "source": [
    "import pandas as pd\n",
    "import matplotlib.pyplot as plt\n",
    "\n",
    "import datetime\n",
    "from pathlib import Path\n"
   ]
  },
  {
   "cell_type": "markdown",
   "id": "b96a6aed-52ec-4d0b-bcba-5a8cb1044b5a",
   "metadata": {},
   "source": [
    "## Load ERDDAP data\n",
    "\n",
    " [ERDDAP](https://coastwatch.pfeg.noaa.gov/erddapinfo/) is a data server that gives you a simple, consistent way to download data in the format and the spatial and temporal coverage that you want. ERDDAP is a web application with an interface for people to use. It is also a RESTful web service that allows data access directly from any computer program (e.g. Matlab, R, or webpages).\"\n",
    "\n",
    "This notebook uses the python client [erddapy](https://pyoceans.github.io/erddapy) to help construct the RESTful URLs and translate the responses into Pandas and Xarray objects. \n",
    "\n",
    "A typical ERDDAP RESTful URL looks like:\n",
    "\n",
    "[https://data.ioos.us/gliders/erddap/tabledap/whoi_406-20160902T1700.mat?depth,latitude,longitude,salinity,temperature,time&time>=2016-07-10T00:00:00Z&time<=2017-02-10T00:00:00Z &latitude>=38.0&latitude<=41.0&longitude>=-72.0&longitude<=-69.0](https://data.ioos.us/gliders/erddap/tabledap/whoi_406-20160902T1700.mat?depth,latitude,longitude,salinity,temperature,time&time>=2016-07-10T00:00:00Z&time<=2017-02-10T00:00:00Z&latitude>=38.0&latitude<=41.0&longitude>=-72.0&longitude<=-69.0)\n",
    "\n",
    "Let's break it down to smaller parts:\n",
    "\n",
    "- **server**: https://data.ioos.us/gliders/erddap/\n",
    "- **protocol**: tabledap\n",
    "- **dataset_id**: whoi_406-20160902T1700\n",
    "- **response**: .mat\n",
    "- **variables**: depth,latitude,longitude,temperature,time\n",
    "- **constraints**:\n",
    "    - time>=2016-07-10T00:00:00Z\n",
    "    - time<=2017-02-10T00:00:00Z\n",
    "    - latitude>=38.0\n",
    "    - latitude<=41.0\n",
    "    - longitude>=-72.0\n",
    "    - longitude<=-69.0\n",
    "\n",
    "### EMODNET:  \n",
    "https://emodnet.ec.europa.eu/en/emodnet-web-service-documentation#non-ogc-web-services\n",
    "\n",
    "erddap EMODNET physics:  \n",
    "https://prod-erddap.emodnet-physics.eu/erddap/index.html  \n",
    "https://prod-erddap.emodnet-physics.eu/erddap/tabledap/documentation.html  \n",
    "\n",
    "### erddapy  \n",
    "https://github.com/ioos/erddapy\n",
    "\n",
    ">pip install erddapy"
   ]
  },
  {
   "cell_type": "code",
   "execution_count": null,
   "id": "eb78765c",
   "metadata": {},
   "outputs": [],
   "source": [
    "from erddapy import ERDDAP\n",
    "from erddapy.core.url import urlopen"
   ]
  },
  {
   "cell_type": "code",
   "execution_count": null,
   "id": "5160c5d6",
   "metadata": {},
   "outputs": [],
   "source": [
    "# ERDDAP for EMODNET Physics\n",
    "server = 'https://coastwatch.pfeg.noaa.gov/erddap'\n",
    "protocol = 'tabledap'\n",
    "emodnet = ERDDAP(server=server, protocol=protocol)\n",
    "\n",
    "\n",
    "server = 'https://prod-erddap.emodnet-physics.eu/erddap'\n",
    "protocol = 'tabledap'\n",
    "emodnet = ERDDAP(server=server, protocol=protocol)"
   ]
  },
  {
   "cell_type": "code",
   "execution_count": null,
   "id": "f8d8ad4f",
   "metadata": {},
   "outputs": [],
   "source": [
    "min_time = '2010-01-01T00:00:00Z'\n",
    "max_time = '2020-12-31T23:00:00Z'\n",
    "min_lon, max_lon = -17, -15\n",
    "min_lat, max_lat = 44.1, 44.5"
   ]
  },
  {
   "cell_type": "code",
   "execution_count": null,
   "id": "f8e6e14e",
   "metadata": {},
   "outputs": [],
   "source": [
    "kw = {\n",
    "    'min_lon': min_lon,'max_lon': max_lon,'min_lat': min_lat,'max_lat': max_lat,\n",
    "    'min_time': min_time,'max_time': max_time\n",
    "}\n",
    "\n",
    "search_url = emodnet.get_search_url(response='csv', **kw)\n",
    "search_df = pd.read_csv(urlopen(search_url))\n",
    "search_df = search_df[['Institution', 'Dataset ID','tabledap']]\n",
    "search_df"
   ]
  },
  {
   "cell_type": "code",
   "execution_count": null,
   "id": "48495e0e",
   "metadata": {},
   "outputs": [],
   "source": [
    "dataset_id = 'GLODAPv2_2021'\n",
    "emodnet.dataset_id = dataset_id\n",
    "emodnet.response = \"csv\"\n",
    "emodnet.constraints = {\n",
    "#     \"time>=\": min_time,\n",
    "#     \"time<=\": max_time,\n",
    "    \"latitude>=\": min_lat,\n",
    "    \"latitude<=\": max_lat,\n",
    "    \"longitude>=\": min_lon,\n",
    "    \"longitude<=\": max_lon,\n",
    "}\n",
    "emodnet.variables = [\"longitude\", \"latitude\", \"time\",\n",
    "    \"G2temperature\", \"G2salinity\", \"G2pressure\"\n",
    "]\n",
    "\n",
    "df = emodnet.to_pandas()"
   ]
  },
  {
   "cell_type": "code",
   "execution_count": null,
   "id": "5a2d305f",
   "metadata": {},
   "outputs": [],
   "source": [
    "df"
   ]
  },
  {
   "cell_type": "markdown",
   "id": "1c805eb8-a545-4ba2-a3bb-e8e0232da2c9",
   "metadata": {},
   "source": [
    "---"
   ]
  },
  {
   "cell_type": "markdown",
   "id": "dab3da7f",
   "metadata": {},
   "source": [
    "## The pandas [`DataFrame`](https://pandas.pydata.org/docs/user_guide/dsintro.html#dataframe)...\n",
    "...is a **labeled**, two-dimensional columnar structure, similar to a table, spreadsheet, or the R `data.frame`.\n",
    "\n",
    "![dataframe schematic](https://github.com/pandas-dev/pandas/raw/main/doc/source/_static/schemas/01_table_dataframe.svg \"Schematic of a pandas DataFrame\")\n",
    "\n",
    "The `columns` that make up our `DataFrame` can be lists, dictionaries, NumPy arrays, pandas `Series`, or many other data types not mentioned here. Within these `columns`, you can have data values of many different data types used in Python and NumPy, including text, numbers, and dates/times. The first column of a `DataFrame`, shown in the image above in dark gray, is uniquely referred to as an `index`; this column contains information characterizing each row of our `DataFrame`. Similar to any other `column`, the `index` can label rows by text, numbers, datetime objects, and many other data types. Datetime objects are a quite popular way to label rows.\n",
    "\n",
    "For our first example using Pandas DataFrames, we start by reading in some data in comma-separated value (`.csv`) format. We retrieve this dataset from the Pythia DATASETS class (imported at the top of this page); however, the dataset was originally contained within the NCDC teleconnections database. This dataset contains many types of geoscientific data, including El Nino/Southern Oscillation indices. For more information on this dataset, review the description [here](https://www.ncdc.noaa.gov/teleconnections/enso/indicators/sst/)."
   ]
  },
  {
   "cell_type": "code",
   "execution_count": null,
   "id": "0be820cd",
   "metadata": {},
   "outputs": [],
   "source": [
    "df"
   ]
  },
  {
   "cell_type": "code",
   "execution_count": null,
   "id": "4f25621c",
   "metadata": {},
   "outputs": [],
   "source": [
    "# Set index\n",
    "df.set_index(pd.to_datetime(df['time (UTC)']), inplace=True)"
   ]
  },
  {
   "cell_type": "code",
   "execution_count": null,
   "id": "9d71e6d5",
   "metadata": {},
   "outputs": [],
   "source": [
    "df"
   ]
  },
  {
   "cell_type": "code",
   "execution_count": null,
   "id": "ac54db92",
   "metadata": {},
   "outputs": [],
   "source": [
    "df.index[0]"
   ]
  },
  {
   "cell_type": "markdown",
   "id": "68316c6c",
   "metadata": {},
   "source": [
    "### Read file"
   ]
  },
  {
   "cell_type": "code",
   "execution_count": null,
   "id": "e99652d5",
   "metadata": {},
   "outputs": [],
   "source": [
    "p_file = Path('__file__').resolve()\n",
    "dir_data = p_file.parents[0] / 'data'\n",
    "\n",
    "fnd = dir_data / 'GLODAPv2.2021.csv'\n",
    "df2 = pd.read_table(fnd, sep=',')\n",
    "df2"
   ]
  },
  {
   "cell_type": "markdown",
   "id": "377d4803",
   "metadata": {},
   "source": [
    "The `DataFrame` index, as described above, contains information characterizing rows; each row has a unique ID value, which is displayed in the index column.  By default, the IDs for rows in a `DataFrame` are represented as sequential integers, which start at 0."
   ]
  },
  {
   "cell_type": "code",
   "execution_count": null,
   "id": "cde6999b",
   "metadata": {},
   "outputs": [],
   "source": [
    "df.index"
   ]
  },
  {
   "cell_type": "markdown",
   "id": "8af49ac9",
   "metadata": {},
   "source": [
    "At the moment, the index column of our `DataFrame` is not very helpful for humans. However, Pandas has clever ways to make index columns more human-readable. The next example demonstrates how to use optional keyword arguments to convert `DataFrame` index IDs to a human-friendly datetime format."
   ]
  },
  {
   "cell_type": "code",
   "execution_count": null,
   "id": "b4657f7e",
   "metadata": {},
   "outputs": [],
   "source": [
    "# For pandas version > 2.0\n",
    "# df2 = pd.read_table(fnd, sep=',', dtype={'G2year': int, 'G2month': int, 'G2day': int, \n",
    "#                                                        'G2hour': int, 'G2minute': int},\n",
    "#                     parse_dates={'time': ['G2year', 'G2month', 'G2day', 'G2hour', 'G2minute']},\n",
    "#                     date_format='%Y %m %d %H %M', \n",
    "# )\n",
    "\n",
    "df2 = pd.read_table(fnd, sep=',', dtype={'G2year': int, 'G2month': int, 'G2day': int, \n",
    "                                                       'G2hour': int, 'G2minute': int},\n",
    "                    parse_dates={'time': ['G2year', 'G2month', 'G2day', 'G2hour', 'G2minute']},\n",
    "                    infer_datetime_format=True, \n",
    ")\n",
    "df2 \n",
    "# date was not recognized!"
   ]
  },
  {
   "cell_type": "code",
   "execution_count": null,
   "id": "b0d3ae28",
   "metadata": {},
   "outputs": [],
   "source": [
    "df2.drop('time', axis=1)"
   ]
  },
  {
   "cell_type": "markdown",
   "id": "8d26ed71",
   "metadata": {},
   "source": [
    "Each of our data rows is now helpfully labeled by a datetime-object-like index value; this means that we can now easily identify data values not only by named columns, but also by date labels on rows. This is a sneak preview of the `DatetimeIndex` functionality of Pandas; this functionality enables a large portion of Pandas' timeseries-related usage. Don't worry; `DatetimeIndex` will be discussed in full detail later on this page. In the meantime, let's look at the columns of data read in from the `.csv` file:"
   ]
  },
  {
   "cell_type": "code",
   "execution_count": null,
   "id": "847347f8",
   "metadata": {},
   "outputs": [],
   "source": [
    "df.columns"
   ]
  },
  {
   "cell_type": "markdown",
   "id": "08d3b2fb",
   "metadata": {},
   "source": [
    "## The pandas [`Series`](https://pandas.pydata.org/docs/user_guide/dsintro.html#series)...\n",
    "\n",
    "...is essentially any one of the columns of our `DataFrame`. A `Series` also includes the index column from the source `DataFrame`, in order to provide a label for each value in the `Series`.\n",
    "\n",
    "![pandas Series](https://github.com/pandas-dev/pandas/raw/main/doc/source/_static/schemas/01_table_series.svg \"Schematic of a pandas Series\")\n",
    "\n",
    "The pandas `Series` is a fast and capable 1-dimensional array of nearly any data type we could want, and it can behave very similarly to a NumPy `ndarray` or a Python `dict`. You can take a look at any of the `Series` that make up your `DataFrame`, either by using its column name and the Python `dict` notation, or by using dot-shorthand with the column name:"
   ]
  },
  {
   "cell_type": "markdown",
   "id": "b4e93573",
   "metadata": {},
   "source": [
    "### Get columns informations  \n",
    "\n",
    "df['name']  \n",
    "df.name \n",
    "\n",
    "if name is a number  \n",
    "df[145]  \n",
    "df.15 is not valid!"
   ]
  },
  {
   "cell_type": "code",
   "execution_count": null,
   "id": "ee085815",
   "metadata": {},
   "outputs": [],
   "source": [
    "df['G2temperature']"
   ]
  },
  {
   "cell_type": "markdown",
   "id": "2fcc97fa",
   "metadata": {},
   "source": [
    "<div class=\"alert alert-block alert-info\">\n",
    "<b>Tip:</b> You can also use the dot notation illustrated below to specify a column name, but this syntax is mostly provided for convenience. For the most part, this notation is interchangeable with the dictionary notation; however, if the column name is not a valid Python identifier (e.g., it starts with a number or space), you cannot use dot notation.</div>"
   ]
  },
  {
   "cell_type": "code",
   "execution_count": null,
   "id": "7d46cbb9",
   "metadata": {},
   "outputs": [],
   "source": [
    "df.G2temperature"
   ]
  },
  {
   "cell_type": "code",
   "execution_count": null,
   "id": "866ca05c",
   "metadata": {},
   "outputs": [],
   "source": [
    "df = pd.read_table('data/data_waves.dat', header=None, delim_whitespace=True, \n",
    "                   names=['YY', 'mm', 'DD', 'time', 'hs', 'tm', 'tp', 'dirm', 'dp', 'spr', 'h', 'lm', 'lp', \n",
    "                          'uw', 'vw'],\n",
    "                  parse_dates=[[0, 1, 2, 3]], index_col=0)\n",
    "df"
   ]
  },
  {
   "cell_type": "code",
   "execution_count": null,
   "id": "e8fb4068",
   "metadata": {},
   "outputs": [],
   "source": [
    "df.describe()"
   ]
  },
  {
   "cell_type": "code",
   "execution_count": null,
   "id": "d26e905e",
   "metadata": {},
   "outputs": [],
   "source": [
    "df.hs[:10000].plot()"
   ]
  },
  {
   "cell_type": "code",
   "execution_count": null,
   "id": "f3f04a66",
   "metadata": {},
   "outputs": [],
   "source": [
    "df.max()"
   ]
  },
  {
   "cell_type": "code",
   "execution_count": null,
   "id": "b18eb8d1",
   "metadata": {},
   "outputs": [],
   "source": [
    "df.sort_values('hs', ascending=False)"
   ]
  },
  {
   "cell_type": "markdown",
   "id": "622d60f7",
   "metadata": {},
   "source": [
    "## Resampling, Shifting, and Windowing"
   ]
  },
  {
   "cell_type": "code",
   "execution_count": null,
   "id": "1f987f71",
   "metadata": {},
   "outputs": [],
   "source": [
    "df['hs']"
   ]
  },
  {
   "cell_type": "code",
   "execution_count": null,
   "id": "80badb9a",
   "metadata": {},
   "outputs": [],
   "source": [
    "df.hs[:100].plot()"
   ]
  },
  {
   "cell_type": "code",
   "execution_count": null,
   "id": "a7dde70a",
   "metadata": {},
   "outputs": [],
   "source": [
    "df.rolling('12H').mean().hs[:100].plot()"
   ]
  },
  {
   "cell_type": "code",
   "execution_count": null,
   "id": "4b3be82d",
   "metadata": {},
   "outputs": [],
   "source": [
    "dfi = df.iloc[:500]"
   ]
  },
  {
   "cell_type": "code",
   "execution_count": null,
   "id": "d829fa74",
   "metadata": {},
   "outputs": [],
   "source": [
    "import matplotlib.pyplot as plt\n",
    "dfi.hs.plot(alpha=0.5, style='-.', marker='o', markersize=1)\n",
    "dfi.hs.resample('24H').mean().plot(style=':', linewidth=2)\n",
    "dfi.hs.asfreq('24H').plot(style='--');\n",
    "plt.legend(['input', 'resample', 'asfreq'],\n",
    "           loc='upper left');"
   ]
  },
  {
   "cell_type": "code",
   "execution_count": null,
   "id": "6d1a1ae8",
   "metadata": {},
   "outputs": [],
   "source": [
    "#df.hs.plot(alpha=0.5, style='-.', marker='o', markersize=1)\n",
    "df_res = df.hs.resample('A').mean()\n",
    "df_res.plot(style=':', linewidth=2)"
   ]
  },
  {
   "cell_type": "code",
   "execution_count": null,
   "id": "44a79749",
   "metadata": {},
   "outputs": [],
   "source": [
    "df.hs.asfreq('Y').plot()"
   ]
  },
  {
   "cell_type": "markdown",
   "id": "89af808e",
   "metadata": {},
   "source": [
    "Notice the difference: at each point, ``resample`` reports the *average of the previous year*, while ``asfreq`` reports the *value at the end of the year*."
   ]
  },
  {
   "cell_type": "markdown",
   "id": "b81bddfc",
   "metadata": {},
   "source": [
    "For up-sampling, ``resample()`` and ``asfreq()`` are largely equivalent, though resample has many more options available.\n",
    "In this case, the default for both methods is to leave the up-sampled points empty, that is, filled with NA values.\n",
    "Just as with the ``pd.fillna()`` function discussed previously, ``asfreq()`` accepts a ``method`` argument to specify how values are imputed.\n",
    "Here, we will resample the business day data at a daily frequency (i.e., including weekends):"
   ]
  },
  {
   "cell_type": "code",
   "execution_count": null,
   "id": "2aa01e26",
   "metadata": {},
   "outputs": [],
   "source": [
    "df.resample('A').max()"
   ]
  },
  {
   "cell_type": "code",
   "execution_count": null,
   "id": "ae2b53fb",
   "metadata": {},
   "outputs": [],
   "source": [
    "annual_max = df.groupby(df.index.year).max()\n",
    "annual_max"
   ]
  },
  {
   "cell_type": "code",
   "execution_count": null,
   "id": "d27751d3",
   "metadata": {},
   "outputs": [],
   "source": [
    "index_hs_max=df.hs.groupby(df.index.year).idxmax()\n",
    "index_hs_max"
   ]
  },
  {
   "cell_type": "code",
   "execution_count": null,
   "id": "f7a06967",
   "metadata": {},
   "outputs": [],
   "source": [
    "df[\"1982-01-01\":\"1982-12-01\"]"
   ]
  },
  {
   "cell_type": "markdown",
   "id": "9798abf4",
   "metadata": {},
   "source": [
    "### Using `.iloc` and `.loc` to index\n",
    "\n",
    "In this section, we introduce ways to access data that are preferred by Pandas over the methods listed above. When accessing by label, it is preferred to use the `.loc` method, and when accessing by index, the `.iloc` method is preferred. These methods behave similarly to the notation introduced above, but provide more speed, security, and rigor in your value selection. Using these methods can also help you avoid [chained assignment warnings](https://pandas.pydata.org/docs/user_guide/indexing.html#returning-a-view-versus-a-copy) generated by pandas."
   ]
  },
  {
   "cell_type": "code",
   "execution_count": null,
   "id": "d5eb9de2",
   "metadata": {},
   "outputs": [],
   "source": [
    "df.iloc[3]"
   ]
  },
  {
   "cell_type": "code",
   "execution_count": null,
   "id": "8d0bc3e8",
   "metadata": {},
   "outputs": [],
   "source": [
    "df.iloc[0:12]"
   ]
  },
  {
   "cell_type": "code",
   "execution_count": null,
   "id": "59a10070",
   "metadata": {},
   "outputs": [],
   "source": [
    "df.loc[\"1982-04-01\"]"
   ]
  },
  {
   "cell_type": "code",
   "execution_count": null,
   "id": "3e2b3fc1",
   "metadata": {},
   "outputs": [],
   "source": [
    "df.loc[\"1982-01-01\":\"1982-12-01\"]"
   ]
  },
  {
   "cell_type": "markdown",
   "id": "e710252f",
   "metadata": {},
   "source": [
    "The `.loc` and `.iloc` methods also allow us to pull entire rows out of a `DataFrame`, as shown in these examples:"
   ]
  },
  {
   "cell_type": "code",
   "execution_count": null,
   "id": "aad4fde6",
   "metadata": {},
   "outputs": [],
   "source": [
    "df.loc[\"1982-04-01\"]"
   ]
  },
  {
   "cell_type": "code",
   "execution_count": null,
   "id": "f93737ba",
   "metadata": {},
   "outputs": [],
   "source": [
    "df.loc[\"1982-01-01\":\"1982-12-01\"]"
   ]
  },
  {
   "cell_type": "markdown",
   "id": "4c2ed15e",
   "metadata": {},
   "source": [
    "In the next example, we illustrate how you can use slices of rows and lists of columns to create a smaller `DataFrame` out of an existing `DataFrame`:"
   ]
  },
  {
   "cell_type": "markdown",
   "id": "5504a0da",
   "metadata": {},
   "source": [
    "### Resampling\n",
    "In these examples, we illustrate a process known as resampling. Using resampling, you can change the frequency of index data values, reducing so-called 'noise' in a data plot. This is especially useful when working with timeseries data; plots can be equally effective with resampled data in these cases. The resampling performed in these examples converts monthly values to yearly averages. This is performed by passing the value '1Y' to the `resample` method."
   ]
  },
  {
   "cell_type": "code",
   "execution_count": null,
   "id": "597cfeac",
   "metadata": {},
   "outputs": [],
   "source": [
    "df.hs.plot();"
   ]
  },
  {
   "cell_type": "code",
   "execution_count": null,
   "id": "9e3ee506",
   "metadata": {},
   "outputs": [],
   "source": [
    "df.hs.resample('1Y').mean().plot();"
   ]
  },
  {
   "cell_type": "code",
   "execution_count": null,
   "id": "9109fa9c",
   "metadata": {},
   "outputs": [],
   "source": [
    "# Exercises"
   ]
  }
 ],
 "metadata": {
  "kernelspec": {
   "display_name": "Python 3 (ipykernel)",
   "language": "python",
   "name": "python3"
  },
  "language_info": {
   "codemirror_mode": {
    "name": "ipython",
    "version": 3
   },
   "file_extension": ".py",
   "mimetype": "text/x-python",
   "name": "python",
   "nbconvert_exporter": "python",
   "pygments_lexer": "ipython3",
   "version": "3.8.18"
  }
 },
 "nbformat": 4,
 "nbformat_minor": 5
}
